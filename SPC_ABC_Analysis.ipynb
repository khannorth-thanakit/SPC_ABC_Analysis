import pandas as pd
from google.colab import drive
import pandas as pd
import matplotlib.pyplot as plt

# Mount Google Drive
drive.mount('/content/drive')

# indecate file path in Google Drive
file_path_zgmpi = "/content/drive/My Drive/tOrder.XLSX"
file_path_unit_price = "/content/drive/My Drive/Unitprice.csv"

# read Excel file
dfzgmpi = pd.read_excel(file_path_zgmpi)
dfup = pd.read_csv(file_path_unit_price)

#Change format to DateTime
dfzgmpi['Posted on'] = pd.to_datetime(dfzgmpi['Posted on'])
dfzgmpi['Month_Year'] = dfzgmpi['Posted on'].dt.to_period('M')

start_date = pd.Timestamp('2020-01-01')
dfzgmpi_filtered = dfzgmpi[dfzgmpi['Posted on'] >= start_date]
dfzgmpi = dfzgmpi_filtered

#Change Plnt to str before filter on Plnt = 2020 and Order startswith 821
dfzgmpi = dfzgmpi.loc[(dfzgmpi['Plnt'].astype(str) == "2020") & (dfzgmpi['Order'].astype(str).str.startswith("821"))]

#Pivot dataframe to arrange by month-year
pivot_df = dfzgmpi.pivot_table(index="Material", columns="Month_Year", aggfunc='size', fill_value=0)

# กำหนดเงื่อนไขของ pivot มีค่าอยู่แล้วจะไม่บวกเข้าไปเพิ่ม
if 'Total_Year' in pivot_df.columns:
    pivot_df = pivot_df.drop(columns=['Total_Year'])  # ลบคอลัมน์ Total_Year ก่อนคำนวณใหม่

# เลือกคอลัมน์ที่เป็นตัวเลขเท่านั้น
numeric_columns = pivot_df.select_dtypes(include=['number'])

# คำนวณยอดรวม
pivot_df['Total_Year'] = numeric_columns.sum(axis=1)
# sort by column Total_Year - deascending
pivot_df = pivot_df.sort_values(by='Total_Year', ascending=False)

# ทำ VLOOKUP โดยการ merge
dfup_select = dfup[['Material ID', ' UnitPrice ', 'Description','Manufacturer']]
df_result = pd.merge(pivot_df, dfup_select, left_on='Material', right_on='Material ID', how='left')

#Change data type object to int
df_result['UnitPrice_int'] = (
    df_result[' UnitPrice ']                # column ที่เป็น object
    .astype(str)                     # แปลงเป็น string ก่อน
    .str.replace(',', '')            # ลบ comma
    .str.extract('(\d+)', expand=False)  # ดึงเฉพาะตัวเลข
    .astype(float)                   # แปลงเป็น float เผื่อมีทศนิยม
    .fillna(0)                       # กรณีมี NaN
    .astype(int)                     # แปลงเป็น int
)

# คำนวณ Part_Value
df_result['Part_Value'] = df_result['Total_Year'] * df_result['UnitPrice_int']
df_result = df_result.sort_values(by='Part_Value', ascending=False)
df_result['%Part_Value'] = (
    df_result['Part_Value'] / df_result['Part_Value'].sum()
) * 100

# คำนวณ % สะสม
df_result['%Cumulative_Part_Value'] = df_result['%Part_Value'].cumsum().round(2)

df_result['GroupABC'] = pd.cut(
    df_result['%Cumulative_Part_Value'],
    bins=[0, 70, 90, 100],
    labels=['A', 'B', 'C'],
    include_lowest=True
)
# นับจำนวนแต่ละกลุ่มเป็นเปอร์เซ็นต์
abc_percent = df_result['GroupABC'].value_counts(normalize=True).sort_index() * 100

# วาดกราฟ
plt.figure(figsize=(8, 5))
bars = plt.bar(abc_percent.index, abc_percent.values, color=['green', 'orange', 'red'])

# แสดงค่าบนแท่ง
for bar in bars:
    yval = bar.get_height()
    plt.text(bar.get_x() + bar.get_width()/2.0, yval + 1, f'{yval:.1f}%', ha='center', va='bottom')

# ตกแต่งกราฟ
plt.title("Pareto Chart - % of ABC Class")
plt.xlabel("ABC Class")
plt.ylabel("Percentage (%)")
plt.ylim(0, 100)
plt.grid(axis='y', linestyle='--', alpha=0.7)

plt.show()
